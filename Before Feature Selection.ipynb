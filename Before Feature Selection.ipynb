{
 "cells": [
  {
   "cell_type": "code",
   "execution_count": 1,
   "metadata": {},
   "outputs": [],
   "source": [
    "import pandas as pd\n",
    "import numpy as np\n",
    "from sklearn.model_selection import train_test_split\n",
    "from sklearn.metrics import accuracy_score, precision_score, recall_score, f1_score\n",
    "from sklearn.neighbors import KNeighborsClassifier\n",
    "from sklearn.metrics import confusion_matrix\n",
    "from sklearn.model_selection import GridSearchCV\n",
    "from sklearn.metrics import classification_report\n",
    "from sklearn.preprocessing import StandardScaler"
   ]
  },
  {
   "cell_type": "code",
   "execution_count": 2,
   "metadata": {},
   "outputs": [],
   "source": [
    "data=pd.read_csv(\"Preprocessed_data.csv\")"
   ]
  },
  {
   "cell_type": "code",
   "execution_count": 3,
   "metadata": {},
   "outputs": [
    {
     "data": {
      "text/html": [
       "<div>\n",
       "<style scoped>\n",
       "    .dataframe tbody tr th:only-of-type {\n",
       "        vertical-align: middle;\n",
       "    }\n",
       "\n",
       "    .dataframe tbody tr th {\n",
       "        vertical-align: top;\n",
       "    }\n",
       "\n",
       "    .dataframe thead th {\n",
       "        text-align: right;\n",
       "    }\n",
       "</style>\n",
       "<table border=\"1\" class=\"dataframe\">\n",
       "  <thead>\n",
       "    <tr style=\"text-align: right;\">\n",
       "      <th></th>\n",
       "      <th>Source.IP</th>\n",
       "      <th>Source.Port</th>\n",
       "      <th>Destination.IP</th>\n",
       "      <th>Destination.Port</th>\n",
       "      <th>Protocol</th>\n",
       "      <th>Flow.Duration</th>\n",
       "      <th>Total.Fwd.Packets</th>\n",
       "      <th>Total.Backward.Packets</th>\n",
       "      <th>Total.Length.of.Fwd.Packets</th>\n",
       "      <th>Total.Length.of.Bwd.Packets</th>\n",
       "      <th>...</th>\n",
       "      <th>Active.Mean</th>\n",
       "      <th>Active.Std</th>\n",
       "      <th>Active.Max</th>\n",
       "      <th>Active.Min</th>\n",
       "      <th>Idle.Mean</th>\n",
       "      <th>Idle.Std</th>\n",
       "      <th>Idle.Max</th>\n",
       "      <th>Idle.Min</th>\n",
       "      <th>L7Protocol</th>\n",
       "      <th>ProtocolName</th>\n",
       "    </tr>\n",
       "  </thead>\n",
       "  <tbody>\n",
       "    <tr>\n",
       "      <th>0</th>\n",
       "      <td>3.232259e+09</td>\n",
       "      <td>3821.0</td>\n",
       "      <td>180881160.0</td>\n",
       "      <td>3128.0</td>\n",
       "      <td>6.0</td>\n",
       "      <td>341.0</td>\n",
       "      <td>1.0</td>\n",
       "      <td>1.0</td>\n",
       "      <td>6.0</td>\n",
       "      <td>6.0</td>\n",
       "      <td>...</td>\n",
       "      <td>0.0</td>\n",
       "      <td>0.0</td>\n",
       "      <td>0.0</td>\n",
       "      <td>0.0</td>\n",
       "      <td>0.0</td>\n",
       "      <td>0.0</td>\n",
       "      <td>0.0</td>\n",
       "      <td>0.0</td>\n",
       "      <td>178.0</td>\n",
       "      <td>AMAZON</td>\n",
       "    </tr>\n",
       "    <tr>\n",
       "      <th>1</th>\n",
       "      <td>3.232259e+09</td>\n",
       "      <td>4836.0</td>\n",
       "      <td>180881160.0</td>\n",
       "      <td>3128.0</td>\n",
       "      <td>6.0</td>\n",
       "      <td>341.0</td>\n",
       "      <td>1.0</td>\n",
       "      <td>1.0</td>\n",
       "      <td>6.0</td>\n",
       "      <td>6.0</td>\n",
       "      <td>...</td>\n",
       "      <td>0.0</td>\n",
       "      <td>0.0</td>\n",
       "      <td>0.0</td>\n",
       "      <td>0.0</td>\n",
       "      <td>0.0</td>\n",
       "      <td>0.0</td>\n",
       "      <td>0.0</td>\n",
       "      <td>0.0</td>\n",
       "      <td>178.0</td>\n",
       "      <td>AMAZON</td>\n",
       "    </tr>\n",
       "    <tr>\n",
       "      <th>2</th>\n",
       "      <td>3.232259e+09</td>\n",
       "      <td>3773.0</td>\n",
       "      <td>180881160.0</td>\n",
       "      <td>3128.0</td>\n",
       "      <td>6.0</td>\n",
       "      <td>327.0</td>\n",
       "      <td>1.0</td>\n",
       "      <td>1.0</td>\n",
       "      <td>6.0</td>\n",
       "      <td>6.0</td>\n",
       "      <td>...</td>\n",
       "      <td>0.0</td>\n",
       "      <td>0.0</td>\n",
       "      <td>0.0</td>\n",
       "      <td>0.0</td>\n",
       "      <td>0.0</td>\n",
       "      <td>0.0</td>\n",
       "      <td>0.0</td>\n",
       "      <td>0.0</td>\n",
       "      <td>178.0</td>\n",
       "      <td>AMAZON</td>\n",
       "    </tr>\n",
       "    <tr>\n",
       "      <th>3</th>\n",
       "      <td>3.232259e+09</td>\n",
       "      <td>1523.0</td>\n",
       "      <td>180881159.0</td>\n",
       "      <td>3128.0</td>\n",
       "      <td>6.0</td>\n",
       "      <td>313.0</td>\n",
       "      <td>1.0</td>\n",
       "      <td>1.0</td>\n",
       "      <td>6.0</td>\n",
       "      <td>6.0</td>\n",
       "      <td>...</td>\n",
       "      <td>0.0</td>\n",
       "      <td>0.0</td>\n",
       "      <td>0.0</td>\n",
       "      <td>0.0</td>\n",
       "      <td>0.0</td>\n",
       "      <td>0.0</td>\n",
       "      <td>0.0</td>\n",
       "      <td>0.0</td>\n",
       "      <td>178.0</td>\n",
       "      <td>AMAZON</td>\n",
       "    </tr>\n",
       "    <tr>\n",
       "      <th>4</th>\n",
       "      <td>3.232248e+09</td>\n",
       "      <td>3053.0</td>\n",
       "      <td>180881159.0</td>\n",
       "      <td>3128.0</td>\n",
       "      <td>6.0</td>\n",
       "      <td>766.0</td>\n",
       "      <td>1.0</td>\n",
       "      <td>2.0</td>\n",
       "      <td>6.0</td>\n",
       "      <td>12.0</td>\n",
       "      <td>...</td>\n",
       "      <td>0.0</td>\n",
       "      <td>0.0</td>\n",
       "      <td>0.0</td>\n",
       "      <td>0.0</td>\n",
       "      <td>0.0</td>\n",
       "      <td>0.0</td>\n",
       "      <td>0.0</td>\n",
       "      <td>0.0</td>\n",
       "      <td>178.0</td>\n",
       "      <td>AMAZON</td>\n",
       "    </tr>\n",
       "  </tbody>\n",
       "</table>\n",
       "<p>5 rows × 84 columns</p>\n",
       "</div>"
      ],
      "text/plain": [
       "      Source.IP  Source.Port  Destination.IP  Destination.Port  Protocol  \\\n",
       "0  3.232259e+09       3821.0     180881160.0            3128.0       6.0   \n",
       "1  3.232259e+09       4836.0     180881160.0            3128.0       6.0   \n",
       "2  3.232259e+09       3773.0     180881160.0            3128.0       6.0   \n",
       "3  3.232259e+09       1523.0     180881159.0            3128.0       6.0   \n",
       "4  3.232248e+09       3053.0     180881159.0            3128.0       6.0   \n",
       "\n",
       "   Flow.Duration  Total.Fwd.Packets  Total.Backward.Packets  \\\n",
       "0          341.0                1.0                     1.0   \n",
       "1          341.0                1.0                     1.0   \n",
       "2          327.0                1.0                     1.0   \n",
       "3          313.0                1.0                     1.0   \n",
       "4          766.0                1.0                     2.0   \n",
       "\n",
       "   Total.Length.of.Fwd.Packets  Total.Length.of.Bwd.Packets  ...  Active.Mean  \\\n",
       "0                          6.0                          6.0  ...          0.0   \n",
       "1                          6.0                          6.0  ...          0.0   \n",
       "2                          6.0                          6.0  ...          0.0   \n",
       "3                          6.0                          6.0  ...          0.0   \n",
       "4                          6.0                         12.0  ...          0.0   \n",
       "\n",
       "   Active.Std  Active.Max  Active.Min  Idle.Mean  Idle.Std  Idle.Max  \\\n",
       "0         0.0         0.0         0.0        0.0       0.0       0.0   \n",
       "1         0.0         0.0         0.0        0.0       0.0       0.0   \n",
       "2         0.0         0.0         0.0        0.0       0.0       0.0   \n",
       "3         0.0         0.0         0.0        0.0       0.0       0.0   \n",
       "4         0.0         0.0         0.0        0.0       0.0       0.0   \n",
       "\n",
       "   Idle.Min  L7Protocol  ProtocolName  \n",
       "0       0.0       178.0        AMAZON  \n",
       "1       0.0       178.0        AMAZON  \n",
       "2       0.0       178.0        AMAZON  \n",
       "3       0.0       178.0        AMAZON  \n",
       "4       0.0       178.0        AMAZON  \n",
       "\n",
       "[5 rows x 84 columns]"
      ]
     },
     "execution_count": 3,
     "metadata": {},
     "output_type": "execute_result"
    }
   ],
   "source": [
    "data.head()"
   ]
  },
  {
   "cell_type": "code",
   "execution_count": 13,
   "metadata": {},
   "outputs": [],
   "source": [
    "x=data.iloc[:,0:83]\n",
    "y=data.iloc[:,-1]"
   ]
  },
  {
   "cell_type": "code",
   "execution_count": 14,
   "metadata": {},
   "outputs": [],
   "source": [
    "scaler = StandardScaler()\n",
    "x = scaler.fit_transform(x)"
   ]
  },
  {
   "cell_type": "code",
   "execution_count": 15,
   "metadata": {},
   "outputs": [
    {
     "data": {
      "text/html": [
       "<div>\n",
       "<style scoped>\n",
       "    .dataframe tbody tr th:only-of-type {\n",
       "        vertical-align: middle;\n",
       "    }\n",
       "\n",
       "    .dataframe tbody tr th {\n",
       "        vertical-align: top;\n",
       "    }\n",
       "\n",
       "    .dataframe thead th {\n",
       "        text-align: right;\n",
       "    }\n",
       "</style>\n",
       "<table border=\"1\" class=\"dataframe\">\n",
       "  <thead>\n",
       "    <tr style=\"text-align: right;\">\n",
       "      <th></th>\n",
       "      <th>Source.IP</th>\n",
       "      <th>Source.Port</th>\n",
       "      <th>Destination.IP</th>\n",
       "      <th>Destination.Port</th>\n",
       "      <th>Protocol</th>\n",
       "      <th>Flow.Duration</th>\n",
       "      <th>Total.Fwd.Packets</th>\n",
       "      <th>Total.Backward.Packets</th>\n",
       "      <th>Total.Length.of.Fwd.Packets</th>\n",
       "      <th>Total.Length.of.Bwd.Packets</th>\n",
       "      <th>...</th>\n",
       "      <th>min_seg_size_forward</th>\n",
       "      <th>Active.Mean</th>\n",
       "      <th>Active.Std</th>\n",
       "      <th>Active.Max</th>\n",
       "      <th>Active.Min</th>\n",
       "      <th>Idle.Mean</th>\n",
       "      <th>Idle.Std</th>\n",
       "      <th>Idle.Max</th>\n",
       "      <th>Idle.Min</th>\n",
       "      <th>L7Protocol</th>\n",
       "    </tr>\n",
       "  </thead>\n",
       "  <tbody>\n",
       "    <tr>\n",
       "      <th>0</th>\n",
       "      <td>0.945448</td>\n",
       "      <td>-1.738083</td>\n",
       "      <td>-0.659034</td>\n",
       "      <td>-0.166763</td>\n",
       "      <td>-0.143452</td>\n",
       "      <td>-0.519110</td>\n",
       "      <td>-0.098693</td>\n",
       "      <td>-0.098722</td>\n",
       "      <td>-0.05275</td>\n",
       "      <td>-0.034630</td>\n",
       "      <td>...</td>\n",
       "      <td>-0.788081</td>\n",
       "      <td>-0.121102</td>\n",
       "      <td>-0.097095</td>\n",
       "      <td>-0.135927</td>\n",
       "      <td>-0.100295</td>\n",
       "      <td>-0.371883</td>\n",
       "      <td>-0.178077</td>\n",
       "      <td>-0.380515</td>\n",
       "      <td>-0.355132</td>\n",
       "      <td>0.800458</td>\n",
       "    </tr>\n",
       "    <tr>\n",
       "      <th>1</th>\n",
       "      <td>0.945448</td>\n",
       "      <td>-1.689242</td>\n",
       "      <td>-0.659034</td>\n",
       "      <td>-0.166763</td>\n",
       "      <td>-0.143452</td>\n",
       "      <td>-0.519110</td>\n",
       "      <td>-0.098693</td>\n",
       "      <td>-0.098722</td>\n",
       "      <td>-0.05275</td>\n",
       "      <td>-0.034630</td>\n",
       "      <td>...</td>\n",
       "      <td>-0.788081</td>\n",
       "      <td>-0.121102</td>\n",
       "      <td>-0.097095</td>\n",
       "      <td>-0.135927</td>\n",
       "      <td>-0.100295</td>\n",
       "      <td>-0.371883</td>\n",
       "      <td>-0.178077</td>\n",
       "      <td>-0.380515</td>\n",
       "      <td>-0.355132</td>\n",
       "      <td>0.800458</td>\n",
       "    </tr>\n",
       "    <tr>\n",
       "      <th>2</th>\n",
       "      <td>0.945448</td>\n",
       "      <td>-1.740392</td>\n",
       "      <td>-0.659034</td>\n",
       "      <td>-0.166763</td>\n",
       "      <td>-0.143452</td>\n",
       "      <td>-0.519111</td>\n",
       "      <td>-0.098693</td>\n",
       "      <td>-0.098722</td>\n",
       "      <td>-0.05275</td>\n",
       "      <td>-0.034630</td>\n",
       "      <td>...</td>\n",
       "      <td>-0.788081</td>\n",
       "      <td>-0.121102</td>\n",
       "      <td>-0.097095</td>\n",
       "      <td>-0.135927</td>\n",
       "      <td>-0.100295</td>\n",
       "      <td>-0.371883</td>\n",
       "      <td>-0.178077</td>\n",
       "      <td>-0.380515</td>\n",
       "      <td>-0.355132</td>\n",
       "      <td>0.800458</td>\n",
       "    </tr>\n",
       "    <tr>\n",
       "      <th>3</th>\n",
       "      <td>0.945448</td>\n",
       "      <td>-1.848659</td>\n",
       "      <td>-0.659034</td>\n",
       "      <td>-0.166763</td>\n",
       "      <td>-0.143452</td>\n",
       "      <td>-0.519111</td>\n",
       "      <td>-0.098693</td>\n",
       "      <td>-0.098722</td>\n",
       "      <td>-0.05275</td>\n",
       "      <td>-0.034630</td>\n",
       "      <td>...</td>\n",
       "      <td>-0.788081</td>\n",
       "      <td>-0.121102</td>\n",
       "      <td>-0.097095</td>\n",
       "      <td>-0.135927</td>\n",
       "      <td>-0.100295</td>\n",
       "      <td>-0.371883</td>\n",
       "      <td>-0.178077</td>\n",
       "      <td>-0.380515</td>\n",
       "      <td>-0.355132</td>\n",
       "      <td>0.800458</td>\n",
       "    </tr>\n",
       "    <tr>\n",
       "      <th>4</th>\n",
       "      <td>0.945441</td>\n",
       "      <td>-1.775038</td>\n",
       "      <td>-0.659034</td>\n",
       "      <td>-0.166763</td>\n",
       "      <td>-0.143452</td>\n",
       "      <td>-0.519098</td>\n",
       "      <td>-0.098693</td>\n",
       "      <td>-0.097690</td>\n",
       "      <td>-0.05275</td>\n",
       "      <td>-0.034626</td>\n",
       "      <td>...</td>\n",
       "      <td>-0.788081</td>\n",
       "      <td>-0.121102</td>\n",
       "      <td>-0.097095</td>\n",
       "      <td>-0.135927</td>\n",
       "      <td>-0.100295</td>\n",
       "      <td>-0.371883</td>\n",
       "      <td>-0.178077</td>\n",
       "      <td>-0.380515</td>\n",
       "      <td>-0.355132</td>\n",
       "      <td>0.800458</td>\n",
       "    </tr>\n",
       "    <tr>\n",
       "      <th>...</th>\n",
       "      <td>...</td>\n",
       "      <td>...</td>\n",
       "      <td>...</td>\n",
       "      <td>...</td>\n",
       "      <td>...</td>\n",
       "      <td>...</td>\n",
       "      <td>...</td>\n",
       "      <td>...</td>\n",
       "      <td>...</td>\n",
       "      <td>...</td>\n",
       "      <td>...</td>\n",
       "      <td>...</td>\n",
       "      <td>...</td>\n",
       "      <td>...</td>\n",
       "      <td>...</td>\n",
       "      <td>...</td>\n",
       "      <td>...</td>\n",
       "      <td>...</td>\n",
       "      <td>...</td>\n",
       "      <td>...</td>\n",
       "      <td>...</td>\n",
       "    </tr>\n",
       "    <tr>\n",
       "      <th>420497</th>\n",
       "      <td>0.945435</td>\n",
       "      <td>0.844724</td>\n",
       "      <td>-0.659034</td>\n",
       "      <td>-0.166763</td>\n",
       "      <td>-0.143452</td>\n",
       "      <td>-0.519112</td>\n",
       "      <td>-0.098693</td>\n",
       "      <td>-0.098722</td>\n",
       "      <td>-0.05275</td>\n",
       "      <td>-0.034630</td>\n",
       "      <td>...</td>\n",
       "      <td>-0.788081</td>\n",
       "      <td>-0.121102</td>\n",
       "      <td>-0.097095</td>\n",
       "      <td>-0.135927</td>\n",
       "      <td>-0.100295</td>\n",
       "      <td>-0.371883</td>\n",
       "      <td>-0.178077</td>\n",
       "      <td>-0.380515</td>\n",
       "      <td>-0.355132</td>\n",
       "      <td>-0.132293</td>\n",
       "    </tr>\n",
       "    <tr>\n",
       "      <th>420498</th>\n",
       "      <td>0.945470</td>\n",
       "      <td>0.739778</td>\n",
       "      <td>-0.659034</td>\n",
       "      <td>-0.166763</td>\n",
       "      <td>-0.143452</td>\n",
       "      <td>-0.519109</td>\n",
       "      <td>-0.098693</td>\n",
       "      <td>-0.096657</td>\n",
       "      <td>-0.05275</td>\n",
       "      <td>-0.034621</td>\n",
       "      <td>...</td>\n",
       "      <td>-0.788081</td>\n",
       "      <td>-0.121102</td>\n",
       "      <td>-0.097095</td>\n",
       "      <td>-0.135927</td>\n",
       "      <td>-0.100295</td>\n",
       "      <td>-0.371883</td>\n",
       "      <td>-0.178077</td>\n",
       "      <td>-0.380515</td>\n",
       "      <td>-0.355132</td>\n",
       "      <td>-0.132293</td>\n",
       "    </tr>\n",
       "    <tr>\n",
       "      <th>420499</th>\n",
       "      <td>0.945435</td>\n",
       "      <td>0.555773</td>\n",
       "      <td>-0.659034</td>\n",
       "      <td>-0.166763</td>\n",
       "      <td>-0.143452</td>\n",
       "      <td>-0.518757</td>\n",
       "      <td>-0.098693</td>\n",
       "      <td>-0.098722</td>\n",
       "      <td>-0.05275</td>\n",
       "      <td>-0.034630</td>\n",
       "      <td>...</td>\n",
       "      <td>-0.788081</td>\n",
       "      <td>-0.121102</td>\n",
       "      <td>-0.097095</td>\n",
       "      <td>-0.135927</td>\n",
       "      <td>-0.100295</td>\n",
       "      <td>-0.371883</td>\n",
       "      <td>-0.178077</td>\n",
       "      <td>-0.380515</td>\n",
       "      <td>-0.355132</td>\n",
       "      <td>-0.132293</td>\n",
       "    </tr>\n",
       "    <tr>\n",
       "      <th>420500</th>\n",
       "      <td>0.945440</td>\n",
       "      <td>0.555965</td>\n",
       "      <td>-0.659034</td>\n",
       "      <td>-0.166763</td>\n",
       "      <td>-0.143452</td>\n",
       "      <td>-0.519117</td>\n",
       "      <td>-0.098693</td>\n",
       "      <td>-0.098722</td>\n",
       "      <td>-0.05275</td>\n",
       "      <td>-0.034634</td>\n",
       "      <td>...</td>\n",
       "      <td>-0.788081</td>\n",
       "      <td>-0.121102</td>\n",
       "      <td>-0.097095</td>\n",
       "      <td>-0.135927</td>\n",
       "      <td>-0.100295</td>\n",
       "      <td>-0.371883</td>\n",
       "      <td>-0.178077</td>\n",
       "      <td>-0.380515</td>\n",
       "      <td>-0.355132</td>\n",
       "      <td>-0.132293</td>\n",
       "    </tr>\n",
       "    <tr>\n",
       "      <th>420501</th>\n",
       "      <td>0.945463</td>\n",
       "      <td>0.646236</td>\n",
       "      <td>-0.659034</td>\n",
       "      <td>-0.166763</td>\n",
       "      <td>-0.143452</td>\n",
       "      <td>-0.519112</td>\n",
       "      <td>-0.098693</td>\n",
       "      <td>-0.097690</td>\n",
       "      <td>-0.05275</td>\n",
       "      <td>-0.034626</td>\n",
       "      <td>...</td>\n",
       "      <td>-0.788081</td>\n",
       "      <td>-0.121102</td>\n",
       "      <td>-0.097095</td>\n",
       "      <td>-0.135927</td>\n",
       "      <td>-0.100295</td>\n",
       "      <td>-0.371883</td>\n",
       "      <td>-0.178077</td>\n",
       "      <td>-0.380515</td>\n",
       "      <td>-0.355132</td>\n",
       "      <td>-0.132293</td>\n",
       "    </tr>\n",
       "  </tbody>\n",
       "</table>\n",
       "<p>420502 rows × 83 columns</p>\n",
       "</div>"
      ],
      "text/plain": [
       "        Source.IP  Source.Port  Destination.IP  Destination.Port  Protocol  \\\n",
       "0        0.945448    -1.738083       -0.659034         -0.166763 -0.143452   \n",
       "1        0.945448    -1.689242       -0.659034         -0.166763 -0.143452   \n",
       "2        0.945448    -1.740392       -0.659034         -0.166763 -0.143452   \n",
       "3        0.945448    -1.848659       -0.659034         -0.166763 -0.143452   \n",
       "4        0.945441    -1.775038       -0.659034         -0.166763 -0.143452   \n",
       "...           ...          ...             ...               ...       ...   \n",
       "420497   0.945435     0.844724       -0.659034         -0.166763 -0.143452   \n",
       "420498   0.945470     0.739778       -0.659034         -0.166763 -0.143452   \n",
       "420499   0.945435     0.555773       -0.659034         -0.166763 -0.143452   \n",
       "420500   0.945440     0.555965       -0.659034         -0.166763 -0.143452   \n",
       "420501   0.945463     0.646236       -0.659034         -0.166763 -0.143452   \n",
       "\n",
       "        Flow.Duration  Total.Fwd.Packets  Total.Backward.Packets  \\\n",
       "0           -0.519110          -0.098693               -0.098722   \n",
       "1           -0.519110          -0.098693               -0.098722   \n",
       "2           -0.519111          -0.098693               -0.098722   \n",
       "3           -0.519111          -0.098693               -0.098722   \n",
       "4           -0.519098          -0.098693               -0.097690   \n",
       "...               ...                ...                     ...   \n",
       "420497      -0.519112          -0.098693               -0.098722   \n",
       "420498      -0.519109          -0.098693               -0.096657   \n",
       "420499      -0.518757          -0.098693               -0.098722   \n",
       "420500      -0.519117          -0.098693               -0.098722   \n",
       "420501      -0.519112          -0.098693               -0.097690   \n",
       "\n",
       "        Total.Length.of.Fwd.Packets  Total.Length.of.Bwd.Packets  ...  \\\n",
       "0                          -0.05275                    -0.034630  ...   \n",
       "1                          -0.05275                    -0.034630  ...   \n",
       "2                          -0.05275                    -0.034630  ...   \n",
       "3                          -0.05275                    -0.034630  ...   \n",
       "4                          -0.05275                    -0.034626  ...   \n",
       "...                             ...                          ...  ...   \n",
       "420497                     -0.05275                    -0.034630  ...   \n",
       "420498                     -0.05275                    -0.034621  ...   \n",
       "420499                     -0.05275                    -0.034630  ...   \n",
       "420500                     -0.05275                    -0.034634  ...   \n",
       "420501                     -0.05275                    -0.034626  ...   \n",
       "\n",
       "        min_seg_size_forward  Active.Mean  Active.Std  Active.Max  Active.Min  \\\n",
       "0                  -0.788081    -0.121102   -0.097095   -0.135927   -0.100295   \n",
       "1                  -0.788081    -0.121102   -0.097095   -0.135927   -0.100295   \n",
       "2                  -0.788081    -0.121102   -0.097095   -0.135927   -0.100295   \n",
       "3                  -0.788081    -0.121102   -0.097095   -0.135927   -0.100295   \n",
       "4                  -0.788081    -0.121102   -0.097095   -0.135927   -0.100295   \n",
       "...                      ...          ...         ...         ...         ...   \n",
       "420497             -0.788081    -0.121102   -0.097095   -0.135927   -0.100295   \n",
       "420498             -0.788081    -0.121102   -0.097095   -0.135927   -0.100295   \n",
       "420499             -0.788081    -0.121102   -0.097095   -0.135927   -0.100295   \n",
       "420500             -0.788081    -0.121102   -0.097095   -0.135927   -0.100295   \n",
       "420501             -0.788081    -0.121102   -0.097095   -0.135927   -0.100295   \n",
       "\n",
       "        Idle.Mean  Idle.Std  Idle.Max  Idle.Min  L7Protocol  \n",
       "0       -0.371883 -0.178077 -0.380515 -0.355132    0.800458  \n",
       "1       -0.371883 -0.178077 -0.380515 -0.355132    0.800458  \n",
       "2       -0.371883 -0.178077 -0.380515 -0.355132    0.800458  \n",
       "3       -0.371883 -0.178077 -0.380515 -0.355132    0.800458  \n",
       "4       -0.371883 -0.178077 -0.380515 -0.355132    0.800458  \n",
       "...           ...       ...       ...       ...         ...  \n",
       "420497  -0.371883 -0.178077 -0.380515 -0.355132   -0.132293  \n",
       "420498  -0.371883 -0.178077 -0.380515 -0.355132   -0.132293  \n",
       "420499  -0.371883 -0.178077 -0.380515 -0.355132   -0.132293  \n",
       "420500  -0.371883 -0.178077 -0.380515 -0.355132   -0.132293  \n",
       "420501  -0.371883 -0.178077 -0.380515 -0.355132   -0.132293  \n",
       "\n",
       "[420502 rows x 83 columns]"
      ]
     },
     "execution_count": 15,
     "metadata": {},
     "output_type": "execute_result"
    }
   ],
   "source": [
    "x=pd.DataFrame(x,columns=data.columns[0:83])\n",
    "x"
   ]
  },
  {
   "cell_type": "code",
   "execution_count": 16,
   "metadata": {},
   "outputs": [],
   "source": [
    "X_train, X_test, y_train, y_test = train_test_split(x, y,test_size = 0.3, random_state = 42)"
   ]
  },
  {
   "cell_type": "markdown",
   "metadata": {},
   "source": [
    "# KNN"
   ]
  },
  {
   "cell_type": "code",
   "execution_count": 7,
   "metadata": {},
   "outputs": [],
   "source": [
    "knn_clf=KNeighborsClassifier()"
   ]
  },
  {
   "cell_type": "code",
   "execution_count": 8,
   "metadata": {},
   "outputs": [],
   "source": [
    "params = { 'n_neighbors': [3,7,11,21],\n",
    "    'weights': ['uniform', 'distance'],\n",
    "    'metric': ['euclidean', 'manhattan'] }\n",
    "gs_knn = GridSearchCV(knn_clf, params, cv = 10, n_jobs = -1)"
   ]
  },
  {
   "cell_type": "code",
   "execution_count": null,
   "metadata": {},
   "outputs": [],
   "source": [
    "%%time\n",
    "gs_knn=gs_knn.fit(X_train,y_train)"
   ]
  },
  {
   "cell_type": "code",
   "execution_count": null,
   "metadata": {},
   "outputs": [],
   "source": [
    "gs_knn.best_params_"
   ]
  },
  {
   "cell_type": "code",
   "execution_count": 17,
   "metadata": {},
   "outputs": [],
   "source": [
    "knn=KNeighborsClassifier(n_neighbors = 3, metric='manhattan', weights='distance')"
   ]
  },
  {
   "cell_type": "code",
   "execution_count": 19,
   "metadata": {},
   "outputs": [
    {
     "name": "stdout",
     "output_type": "stream",
     "text": [
      "Wall time: 2min 14s\n"
     ]
    },
    {
     "data": {
      "text/plain": [
       "KNeighborsClassifier(metric='manhattan', n_neighbors=3, weights='distance')"
      ]
     },
     "execution_count": 19,
     "metadata": {},
     "output_type": "execute_result"
    }
   ],
   "source": [
    "%%time\n",
    "knn.fit(X_train,y_train)"
   ]
  },
  {
   "cell_type": "code",
   "execution_count": 20,
   "metadata": {},
   "outputs": [
    {
     "name": "stdout",
     "output_type": "stream",
     "text": [
      "Wall time: 23min 23s\n"
     ]
    },
    {
     "data": {
      "text/plain": [
       "0.9423389430127387"
      ]
     },
     "execution_count": 20,
     "metadata": {},
     "output_type": "execute_result"
    }
   ],
   "source": [
    "%%time\n",
    "knn.score(X_test, y_test)"
   ]
  },
  {
   "cell_type": "code",
   "execution_count": 21,
   "metadata": {},
   "outputs": [
    {
     "name": "stdout",
     "output_type": "stream",
     "text": [
      "Wall time: 21min\n"
     ]
    }
   ],
   "source": [
    "%%time\n",
    "y_pred = knn.predict(X_test)"
   ]
  },
  {
   "cell_type": "code",
   "execution_count": 22,
   "metadata": {},
   "outputs": [
    {
     "name": "stderr",
     "output_type": "stream",
     "text": [
      "C:\\Users\\chara\\anaconda3\\lib\\site-packages\\sklearn\\metrics\\_classification.py:1221: UndefinedMetricWarning: Precision and F-score are ill-defined and being set to 0.0 in labels with no predicted samples. Use `zero_division` parameter to control this behavior.\n",
      "  _warn_prf(average, modifier, msg_start, len(result))\n"
     ]
    },
    {
     "name": "stdout",
     "output_type": "stream",
     "text": [
      "                   precision    recall  f1-score   support\n",
      "\n",
      "           AMAZON       0.91      0.80      0.85      2958\n",
      "            APPLE       0.92      0.88      0.90      2977\n",
      "     APPLE_ICLOUD       0.92      0.97      0.95      2950\n",
      "     APPLE_ITUNES       0.93      0.95      0.94      3062\n",
      "    CITRIX_ONLINE       0.83      0.91      0.87        11\n",
      "       CLOUDFLARE       0.98      0.97      0.97      3046\n",
      "    CONTENT_FLASH       0.99      1.00      1.00      2950\n",
      "           DEEZER       1.00      0.28      0.43        18\n",
      "              DNS       1.00      0.99      1.00      2990\n",
      "          DROPBOX       0.92      0.89      0.91      3028\n",
      "         EASYTAXI       0.96      0.98      0.97      3083\n",
      "             EBAY       0.94      0.96      0.95      3025\n",
      "          EDONKEY       0.85      0.41      0.55        27\n",
      "         FACEBOOK       0.94      0.94      0.94      2932\n",
      "      FTP_CONTROL       1.00      1.00      1.00         9\n",
      "         FTP_DATA       0.97      0.99      0.98      3008\n",
      "            GMAIL       0.79      0.78      0.78      2966\n",
      "           GOOGLE       0.91      0.96      0.93      2948\n",
      "      GOOGLE_MAPS       0.92      0.96      0.94      3014\n",
      "             HTTP       1.00      0.99      1.00      3012\n",
      "     HTTP_CONNECT       0.95      0.97      0.96      3065\n",
      "    HTTP_DOWNLOAD       0.98      0.99      0.99      3010\n",
      "       HTTP_PROXY       0.94      0.94      0.94      2955\n",
      "        INSTAGRAM       0.97      0.95      0.96      3162\n",
      "          IP_ICMP       1.00      1.00      1.00      3012\n",
      "        MICROSOFT       0.96      0.96      0.96      2926\n",
      "             MQTT       0.99      1.00      0.99      3047\n",
      "              MSN       0.91      0.85      0.88      3015\n",
      "            MSSQL       0.00      0.00      0.00         5\n",
      "     MS_ONE_DRIVE       0.96      0.98      0.97      2979\n",
      "          NETFLIX       0.93      0.95      0.94      2967\n",
      "              NTP       1.00      1.00      1.00      2977\n",
      "       OFFICE_365       0.98      0.98      0.98      2879\n",
      "            SKYPE       0.77      0.79      0.78      2913\n",
      "          SPOTIFY       0.96      0.99      0.98      3025\n",
      "              SSH       0.99      1.00      1.00      2990\n",
      "              SSL       0.96      0.92      0.94      2990\n",
      "      SSL_NO_CERT       0.98      0.99      0.98      2988\n",
      "       TEAMVIEWER       0.99      1.00      1.00      3039\n",
      "         TELEGRAM       0.89      0.73      0.80        11\n",
      "           TIMMEU       1.00      0.09      0.17        11\n",
      "              TOR       0.97      0.99      0.98      3002\n",
      "           TWITCH       0.00      0.00      0.00         7\n",
      "          TWITTER       0.76      0.69      0.72      2994\n",
      "        UBUNTUONE       0.99      1.00      1.00      2937\n",
      "UNENCRYPED_JABBER       0.92      0.92      0.92        12\n",
      "             UPNP       0.82      0.75      0.78        12\n",
      "             WAZE       0.89      0.74      0.81        23\n",
      "         WHATSAPP       0.92      0.90      0.91      3038\n",
      "        WIKIPEDIA       0.92      0.96      0.94      3087\n",
      "   WINDOWS_UPDATE       0.95      0.99      0.97      3080\n",
      "            YAHOO       0.88      0.88      0.88      2931\n",
      "          YOUTUBE       0.91      0.93      0.92      3048\n",
      "\n",
      "         accuracy                           0.94    126151\n",
      "        macro avg       0.90      0.86      0.87    126151\n",
      "     weighted avg       0.94      0.94      0.94    126151\n",
      "\n"
     ]
    }
   ],
   "source": [
    "print(classification_report(y_test, y_pred))"
   ]
  },
  {
   "cell_type": "code",
   "execution_count": 23,
   "metadata": {},
   "outputs": [
    {
     "name": "stdout",
     "output_type": "stream",
     "text": [
      "[[2361   19    5 ...   22    4    0]\n",
      " [  10 2633  107 ...    0    1    0]\n",
      " [   1   25 2872 ...    6    0    1]\n",
      " ...\n",
      " [   3    3    0 ... 3035    2    0]\n",
      " [   6    3    0 ...    3 2592    1]\n",
      " [   0    2    0 ...    0    0 2838]]\n"
     ]
    }
   ],
   "source": [
    "print(confusion_matrix(y_test, y_pred))"
   ]
  },
  {
   "cell_type": "code",
   "execution_count": 24,
   "metadata": {},
   "outputs": [
    {
     "name": "stdout",
     "output_type": "stream",
     "text": [
      "Testing accuracy: 94.23389430127386\n"
     ]
    }
   ],
   "source": [
    "count1=0\n",
    "for i in range(len(y_pred)):\n",
    "\n",
    "    if y_pred[i]==y_test.values[i]:\n",
    "        count1=count1+1\n",
    "print(\"Testing accuracy:\",(count1/(len(y_test.values))*100))"
   ]
  },
  {
   "cell_type": "code",
   "execution_count": 30,
   "metadata": {},
   "outputs": [],
   "source": [
    "y_pred_train=knn.predict(X_train)"
   ]
  },
  {
   "cell_type": "code",
   "execution_count": 31,
   "metadata": {},
   "outputs": [
    {
     "name": "stdout",
     "output_type": "stream",
     "text": [
      "[[7042    0    0 ...    0    0    0]\n",
      " [   0 7023    0 ...    0    0    0]\n",
      " [   0    0 7050 ...    0    0    0]\n",
      " ...\n",
      " [   0    0    0 ... 6920    0    0]\n",
      " [   0    0    0 ...    0 7069    0]\n",
      " [   0    0    0 ...    0    0 6952]]\n"
     ]
    }
   ],
   "source": [
    "print(confusion_matrix(y_train,y_pred_train))"
   ]
  },
  {
   "cell_type": "code",
   "execution_count": 33,
   "metadata": {},
   "outputs": [
    {
     "name": "stdout",
     "output_type": "stream",
     "text": [
      "Training accuracy : 100.0\n"
     ]
    }
   ],
   "source": [
    "count=0\n",
    "for i in range(len(y_pred_train)):\n",
    "    if y_pred_train[i]==y_train.values[i]:\n",
    "        count=count+1\n",
    "print(\"Training accuracy :\",(count/len(y_train))*100)"
   ]
  },
  {
   "cell_type": "markdown",
   "metadata": {},
   "source": [
    "# Decision Tree"
   ]
  },
  {
   "cell_type": "code",
   "execution_count": 26,
   "metadata": {},
   "outputs": [],
   "source": [
    "from sklearn.tree import DecisionTreeClassifier\n",
    "gs_dt = DecisionTreeClassifier(random_state=42)\n",
    "params = { 'criterion': ['gini', 'entropy'],\n",
    "    'splitter': ['best', 'random'],\n",
    "    'max_depth': [10,11,12,13,14,15,16,17] }\n",
    "gs_dt = GridSearchCV(gs_dt, params, cv = 10, n_jobs = -1)"
   ]
  },
  {
   "cell_type": "code",
   "execution_count": null,
   "metadata": {},
   "outputs": [],
   "source": [
    "gs_dt=gs_dt.fit(X_train,y_train)"
   ]
  },
  {
   "cell_type": "code",
   "execution_count": null,
   "metadata": {},
   "outputs": [],
   "source": [
    "gs_dt.best_params_"
   ]
  },
  {
   "cell_type": "code",
   "execution_count": 27,
   "metadata": {},
   "outputs": [],
   "source": [
    "dt=DecisionTreeClassifier(criterion='entropy',max_depth=10,splitter='best',random_state=42)"
   ]
  },
  {
   "cell_type": "code",
   "execution_count": 28,
   "metadata": {},
   "outputs": [
    {
     "data": {
      "text/plain": [
       "DecisionTreeClassifier(criterion='entropy', max_depth=10, random_state=42)"
      ]
     },
     "execution_count": 28,
     "metadata": {},
     "output_type": "execute_result"
    }
   ],
   "source": [
    "dt.fit(X_train,y_train)"
   ]
  },
  {
   "cell_type": "code",
   "execution_count": 29,
   "metadata": {},
   "outputs": [
    {
     "data": {
      "text/plain": [
       "0.9999841459837814"
      ]
     },
     "execution_count": 29,
     "metadata": {},
     "output_type": "execute_result"
    }
   ],
   "source": [
    "dt.score(X_test,y_test)"
   ]
  },
  {
   "cell_type": "code",
   "execution_count": 34,
   "metadata": {},
   "outputs": [
    {
     "name": "stdout",
     "output_type": "stream",
     "text": [
      "Wall time: 139 ms\n"
     ]
    }
   ],
   "source": [
    "%%time\n",
    "y_pred_dt = dt.predict(X_test)"
   ]
  },
  {
   "cell_type": "markdown",
   "metadata": {},
   "source": [
    "# Random Forest"
   ]
  },
  {
   "cell_type": "code",
   "execution_count": 36,
   "metadata": {},
   "outputs": [],
   "source": [
    "from sklearn.ensemble import RandomForestClassifier"
   ]
  },
  {
   "cell_type": "code",
   "execution_count": null,
   "metadata": {},
   "outputs": [],
   "source": [
    "gs_rf = RandomForestClassifier()\n",
    "param_grid = {'max_depth':[30,40,50],\n",
    "              'n_estimators':[20,30,40,50],  \n",
    "              'max_features':['auto','log2'],\n",
    "              'criterion':['gini','entropy']}"
   ]
  },
  {
   "cell_type": "code",
   "execution_count": null,
   "metadata": {},
   "outputs": [],
   "source": [
    "gs_rf = GridSearchCV(estimator = gs_rf, param_grid = param_grid, scoring='accuracy', cv=6)"
   ]
  },
  {
   "cell_type": "code",
   "execution_count": 37,
   "metadata": {},
   "outputs": [],
   "source": [
    "rf=RandomForestClassifier(max_depth=40, n_estimators=50, criterion='entropy')"
   ]
  },
  {
   "cell_type": "code",
   "execution_count": 38,
   "metadata": {},
   "outputs": [
    {
     "name": "stdout",
     "output_type": "stream",
     "text": [
      "Wall time: 4min 5s\n"
     ]
    },
    {
     "data": {
      "text/plain": [
       "RandomForestClassifier(criterion='entropy', max_depth=40, n_estimators=50)"
      ]
     },
     "execution_count": 38,
     "metadata": {},
     "output_type": "execute_result"
    }
   ],
   "source": [
    "%%time\n",
    "rf.fit(X_train, y_train)"
   ]
  },
  {
   "cell_type": "code",
   "execution_count": 39,
   "metadata": {},
   "outputs": [
    {
     "name": "stdout",
     "output_type": "stream",
     "text": [
      "Wall time: 4.11 s\n"
     ]
    },
    {
     "data": {
      "text/plain": [
       "0.9837971954245309"
      ]
     },
     "execution_count": 39,
     "metadata": {},
     "output_type": "execute_result"
    }
   ],
   "source": [
    "%%time\n",
    "rf.score(X_test, y_test)"
   ]
  },
  {
   "cell_type": "code",
   "execution_count": 40,
   "metadata": {},
   "outputs": [
    {
     "name": "stdout",
     "output_type": "stream",
     "text": [
      "Wall time: 3.92 s\n"
     ]
    }
   ],
   "source": [
    "%%time\n",
    "y_pred_rf = rf.predict(X_test)"
   ]
  },
  {
   "cell_type": "code",
   "execution_count": 41,
   "metadata": {},
   "outputs": [
    {
     "name": "stderr",
     "output_type": "stream",
     "text": [
      "C:\\Users\\chara\\anaconda3\\lib\\site-packages\\sklearn\\metrics\\_classification.py:1221: UndefinedMetricWarning: Precision and F-score are ill-defined and being set to 0.0 in labels with no predicted samples. Use `zero_division` parameter to control this behavior.\n",
      "  _warn_prf(average, modifier, msg_start, len(result))\n"
     ]
    },
    {
     "name": "stdout",
     "output_type": "stream",
     "text": [
      "                   precision    recall  f1-score   support\n",
      "\n",
      "           AMAZON       0.96      0.97      0.96      2958\n",
      "            APPLE       0.99      0.99      0.99      2977\n",
      "     APPLE_ICLOUD       1.00      1.00      1.00      2950\n",
      "     APPLE_ITUNES       0.99      1.00      1.00      3062\n",
      "    CITRIX_ONLINE       1.00      1.00      1.00        11\n",
      "       CLOUDFLARE       1.00      1.00      1.00      3046\n",
      "    CONTENT_FLASH       1.00      1.00      1.00      2950\n",
      "           DEEZER       1.00      0.44      0.62        18\n",
      "              DNS       1.00      1.00      1.00      2990\n",
      "          DROPBOX       0.98      0.95      0.97      3028\n",
      "         EASYTAXI       0.99      1.00      1.00      3083\n",
      "             EBAY       0.99      0.99      0.99      3025\n",
      "          EDONKEY       1.00      0.63      0.77        27\n",
      "         FACEBOOK       0.96      0.97      0.97      2932\n",
      "      FTP_CONTROL       1.00      1.00      1.00         9\n",
      "         FTP_DATA       0.99      1.00      1.00      3008\n",
      "            GMAIL       0.93      0.95      0.94      2966\n",
      "           GOOGLE       0.97      0.99      0.98      2948\n",
      "      GOOGLE_MAPS       0.99      0.99      0.99      3014\n",
      "             HTTP       0.93      0.98      0.95      3012\n",
      "     HTTP_CONNECT       0.99      1.00      1.00      3065\n",
      "    HTTP_DOWNLOAD       1.00      0.99      0.99      3010\n",
      "       HTTP_PROXY       0.97      1.00      0.98      2955\n",
      "        INSTAGRAM       0.99      0.98      0.98      3162\n",
      "          IP_ICMP       1.00      1.00      1.00      3012\n",
      "        MICROSOFT       0.97      0.98      0.98      2926\n",
      "             MQTT       1.00      1.00      1.00      3047\n",
      "              MSN       0.98      0.95      0.96      3015\n",
      "            MSSQL       1.00      0.20      0.33         5\n",
      "     MS_ONE_DRIVE       1.00      0.99      0.99      2979\n",
      "          NETFLIX       0.99      0.99      0.99      2967\n",
      "              NTP       1.00      1.00      1.00      2977\n",
      "       OFFICE_365       1.00      0.99      0.99      2879\n",
      "            SKYPE       0.99      0.97      0.98      2913\n",
      "          SPOTIFY       1.00      1.00      1.00      3025\n",
      "              SSH       1.00      1.00      1.00      2990\n",
      "              SSL       0.98      0.92      0.95      2990\n",
      "      SSL_NO_CERT       1.00      1.00      1.00      2988\n",
      "       TEAMVIEWER       1.00      1.00      1.00      3039\n",
      "         TELEGRAM       1.00      0.82      0.90        11\n",
      "           TIMMEU       1.00      0.18      0.31        11\n",
      "              TOR       1.00      1.00      1.00      3002\n",
      "           TWITCH       0.00      0.00      0.00         7\n",
      "          TWITTER       0.94      0.92      0.93      2994\n",
      "        UBUNTUONE       1.00      1.00      1.00      2937\n",
      "UNENCRYPED_JABBER       1.00      0.92      0.96        12\n",
      "             UPNP       1.00      0.75      0.86        12\n",
      "             WAZE       1.00      0.78      0.88        23\n",
      "         WHATSAPP       0.99      0.98      0.98      3038\n",
      "        WIKIPEDIA       0.99      0.99      0.99      3087\n",
      "   WINDOWS_UPDATE       0.99      0.99      0.99      3080\n",
      "            YAHOO       0.93      0.95      0.94      2931\n",
      "          YOUTUBE       0.96      0.99      0.97      3048\n",
      "\n",
      "         accuracy                           0.98    126151\n",
      "        macro avg       0.97      0.91      0.92    126151\n",
      "     weighted avg       0.98      0.98      0.98    126151\n",
      "\n"
     ]
    }
   ],
   "source": [
    "print(classification_report(y_test, y_pred_rf))"
   ]
  },
  {
   "cell_type": "code",
   "execution_count": 42,
   "metadata": {},
   "outputs": [
    {
     "name": "stdout",
     "output_type": "stream",
     "text": [
      "[[2855    2    0 ...    5    0    0]\n",
      " [   0 2935    1 ...    3    0    0]\n",
      " [   0    3 2940 ...    0    0    0]\n",
      " ...\n",
      " [   5    1    0 ... 3064    1    0]\n",
      " [   0    1    0 ...    0 2792    6]\n",
      " [   0    0    0 ...    0    0 3028]]\n"
     ]
    }
   ],
   "source": [
    "print(confusion_matrix(y_test, y_pred_rf))"
   ]
  }
 ],
 "metadata": {
  "kernelspec": {
   "display_name": "Python 3",
   "language": "python",
   "name": "python3"
  },
  "language_info": {
   "codemirror_mode": {
    "name": "ipython",
    "version": 3
   },
   "file_extension": ".py",
   "mimetype": "text/x-python",
   "name": "python",
   "nbconvert_exporter": "python",
   "pygments_lexer": "ipython3",
   "version": "3.8.5"
  }
 },
 "nbformat": 4,
 "nbformat_minor": 4
}
